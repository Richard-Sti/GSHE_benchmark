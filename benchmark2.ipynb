{
 "cells": [
  {
   "cell_type": "code",
   "execution_count": 1,
   "metadata": {},
   "outputs": [
    {
     "name": "stderr",
     "output_type": "stream",
     "text": [
      "\u001b[32m\u001b[1m  Activating\u001b[22m\u001b[39m project at `~/Projects/GSHE_benchmark`\n"
     ]
    }
   ],
   "source": [
    "import Pkg: activate, build\n",
    "activate(\"../GSHE_benchmark/.\")\n",
    "import GSHE_benchmark;\n",
    "\n",
    "import BenchmarkTools: @btime\n"
   ]
  },
  {
   "cell_type": "code",
   "execution_count": 2,
   "metadata": {},
   "outputs": [
    {
     "data": {
      "text/plain": [
       "7-element Vector{Float64}:\n",
       " 0.0\n",
       " 0.0\n",
       " 0.0\n",
       " 0.0\n",
       " 0.0\n",
       " 0.0\n",
       " 0.0"
      ]
     },
     "metadata": {},
     "output_type": "display_data"
    }
   ],
   "source": [
    "geometry = GSHE_benchmark.setup_geometry(rsource=3, θsource= π/2, ϕsource=0,\n",
    "    robs=50, θobs=π/3, ϕobs=π, a=0.9)\n",
    "p = [0.2, 0.3]\n",
    "x0 = GSHE_benchmark.init_values(p, geometry)\n",
    "dx = zeros(7)"
   ]
  },
  {
   "cell_type": "code",
   "execution_count": 4,
   "metadata": {},
   "outputs": [
    {
     "name": "stdout",
     "output_type": "stream",
     "text": [
      "  593.810 ns (0 allocations: 0 bytes)\n"
     ]
    }
   ],
   "source": [
    "@btime GSHE_benchmark.gshe_odes!(dx, x0, geometry, 0.01, 2)"
   ]
  },
  {
   "cell_type": "code",
   "execution_count": null,
   "metadata": {},
   "outputs": [],
   "source": []
  }
 ],
 "metadata": {
  "kernelspec": {
   "display_name": "Julia 1.7.3",
   "language": "julia",
   "name": "julia-1.7"
  },
  "language_info": {
   "file_extension": ".jl",
   "mimetype": "application/julia",
   "name": "julia",
   "version": "1.7.3"
  },
  "orig_nbformat": 4
 },
 "nbformat": 4,
 "nbformat_minor": 2
}
